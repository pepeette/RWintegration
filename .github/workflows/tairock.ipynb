{
 "cells": [
  {
   "cell_type": "code",
   "execution_count": 11,
   "id": "43d202df-c17b-4593-b894-beeaf9bf9f82",
   "metadata": {},
   "outputs": [
    {
     "ename": "ImportError",
     "evalue": "failed to find libmagic.  Check your installation",
     "output_type": "error",
     "traceback": [
      "\u001b[1;31m---------------------------------------------------------------------------\u001b[0m",
      "\u001b[1;31mImportError\u001b[0m                               Traceback (most recent call last)",
      "Cell \u001b[1;32mIn[11], line 1\u001b[0m\n\u001b[1;32m----> 1\u001b[0m \u001b[38;5;28;01mfrom\u001b[39;00m \u001b[38;5;21;01mtaipy\u001b[39;00m \u001b[38;5;28;01mimport\u001b[39;00m Gui\n\u001b[0;32m      2\u001b[0m \u001b[38;5;28;01mimport\u001b[39;00m \u001b[38;5;21;01mrequests\u001b[39;00m\n\u001b[0;32m      3\u001b[0m \u001b[38;5;28;01mimport\u001b[39;00m \u001b[38;5;21;01mpandas\u001b[39;00m \u001b[38;5;28;01mas\u001b[39;00m \u001b[38;5;21;01mpd\u001b[39;00m\n",
      "File \u001b[1;32m~\\Documents\\Test\\Projects\\Python\\DB\\dbrock\\Lib\\site-packages\\taipy\\__init__.py:19\u001b[0m\n\u001b[0;32m     16\u001b[0m     \u001b[38;5;28;01mfrom\u001b[39;00m \u001b[38;5;21;01mtaipy\u001b[39;00m\u001b[38;5;21;01m.\u001b[39;00m\u001b[38;5;21;01mconfig\u001b[39;00m\u001b[38;5;21;01m.\u001b[39;00m\u001b[38;5;21;01m_init\u001b[39;00m \u001b[38;5;28;01mimport\u001b[39;00m \u001b[38;5;241m*\u001b[39m  \u001b[38;5;66;03m# type: ignore\u001b[39;00m\n\u001b[0;32m     18\u001b[0m \u001b[38;5;28;01mif\u001b[39;00m find_spec(\u001b[38;5;124m\"\u001b[39m\u001b[38;5;124mtaipy.gui\u001b[39m\u001b[38;5;124m\"\u001b[39m):\n\u001b[1;32m---> 19\u001b[0m     \u001b[38;5;28;01mfrom\u001b[39;00m \u001b[38;5;21;01mtaipy\u001b[39;00m\u001b[38;5;21;01m.\u001b[39;00m\u001b[38;5;21;01mgui\u001b[39;00m\u001b[38;5;21;01m.\u001b[39;00m\u001b[38;5;21;01m_init\u001b[39;00m \u001b[38;5;28;01mimport\u001b[39;00m \u001b[38;5;241m*\u001b[39m  \u001b[38;5;66;03m# type: ignore\u001b[39;00m\n\u001b[0;32m     21\u001b[0m \u001b[38;5;28;01mif\u001b[39;00m find_spec(\u001b[38;5;124m\"\u001b[39m\u001b[38;5;124mtaipy.core\u001b[39m\u001b[38;5;124m\"\u001b[39m):\n\u001b[0;32m     22\u001b[0m     \u001b[38;5;28;01mfrom\u001b[39;00m \u001b[38;5;21;01mtaipy\u001b[39;00m\u001b[38;5;21;01m.\u001b[39;00m\u001b[38;5;21;01mcore\u001b[39;00m\u001b[38;5;21;01m.\u001b[39;00m\u001b[38;5;21;01m_init\u001b[39;00m \u001b[38;5;28;01mimport\u001b[39;00m \u001b[38;5;241m*\u001b[39m  \u001b[38;5;66;03m# type: ignore\u001b[39;00m\n",
      "File \u001b[1;32m~\\Documents\\Test\\Projects\\Python\\DB\\dbrock\\Lib\\site-packages\\taipy\\gui\\__init__.py:73\u001b[0m\n\u001b[0;32m     12\u001b[0m \u001b[38;5;124;03m\"\"\"# Taipy Graphical User Interface generator\u001b[39;00m\n\u001b[0;32m     13\u001b[0m \n\u001b[0;32m     14\u001b[0m \u001b[38;5;124;03mThe Taipy GUI package provides User Interface generation based on page templates. It can\u001b[39;00m\n\u001b[1;32m   (...)\u001b[0m\n\u001b[0;32m     68\u001b[0m \n\u001b[0;32m     69\u001b[0m \u001b[38;5;124;03m\"\"\"\u001b[39;00m\n\u001b[0;32m     71\u001b[0m \u001b[38;5;28;01mfrom\u001b[39;00m \u001b[38;5;21;01mimportlib\u001b[39;00m\u001b[38;5;21;01m.\u001b[39;00m\u001b[38;5;21;01mutil\u001b[39;00m \u001b[38;5;28;01mimport\u001b[39;00m find_spec\n\u001b[1;32m---> 73\u001b[0m \u001b[38;5;28;01mfrom\u001b[39;00m \u001b[38;5;21;01m.\u001b[39;00m\u001b[38;5;21;01m_init\u001b[39;00m \u001b[38;5;28;01mimport\u001b[39;00m \u001b[38;5;241m*\u001b[39m\n\u001b[0;32m     74\u001b[0m \u001b[38;5;28;01mfrom\u001b[39;00m \u001b[38;5;21;01m.\u001b[39;00m\u001b[38;5;21;01mgui_actions\u001b[39;00m \u001b[38;5;28;01mimport\u001b[39;00m (\n\u001b[0;32m     75\u001b[0m     download,\n\u001b[0;32m     76\u001b[0m     get_module_context,\n\u001b[1;32m   (...)\u001b[0m\n\u001b[0;32m     85\u001b[0m     resume_control,\n\u001b[0;32m     86\u001b[0m )\n\u001b[0;32m     87\u001b[0m \u001b[38;5;28;01mfrom\u001b[39;00m \u001b[38;5;21;01m.\u001b[39;00m\u001b[38;5;21;01micon\u001b[39;00m \u001b[38;5;28;01mimport\u001b[39;00m Icon\n",
      "File \u001b[1;32m~\\Documents\\Test\\Projects\\Python\\DB\\dbrock\\Lib\\site-packages\\taipy\\gui\\_init.py:12\u001b[0m\n\u001b[0;32m      1\u001b[0m \u001b[38;5;66;03m# Copyright 2023 Avaiga Private Limited\u001b[39;00m\n\u001b[0;32m      2\u001b[0m \u001b[38;5;66;03m#\u001b[39;00m\n\u001b[0;32m      3\u001b[0m \u001b[38;5;66;03m# Licensed under the Apache License, Version 2.0 (the \"License\"); you may not use this file except in compliance with\u001b[39;00m\n\u001b[1;32m   (...)\u001b[0m\n\u001b[0;32m      9\u001b[0m \u001b[38;5;66;03m# an \"AS IS\" BASIS, WITHOUT WARRANTIES OR CONDITIONS OF ANY KIND, either express or implied. See the License for the\u001b[39;00m\n\u001b[0;32m     10\u001b[0m \u001b[38;5;66;03m# specific language governing permissions and limitations under the License.\u001b[39;00m\n\u001b[1;32m---> 12\u001b[0m \u001b[38;5;28;01mfrom\u001b[39;00m \u001b[38;5;21;01m.\u001b[39;00m\u001b[38;5;21;01mgui\u001b[39;00m \u001b[38;5;28;01mimport\u001b[39;00m Gui\n",
      "File \u001b[1;32m~\\Documents\\Test\\Projects\\Python\\DB\\dbrock\\Lib\\site-packages\\taipy\\gui\\gui.py:46\u001b[0m\n\u001b[0;32m     44\u001b[0m \u001b[38;5;28;01mfrom\u001b[39;00m \u001b[38;5;21;01m.\u001b[39;00m\u001b[38;5;21;01m_warnings\u001b[39;00m \u001b[38;5;28;01mimport\u001b[39;00m _warn\n\u001b[0;32m     45\u001b[0m \u001b[38;5;28;01mfrom\u001b[39;00m \u001b[38;5;21;01m.\u001b[39;00m\u001b[38;5;21;01mconfig\u001b[39;00m \u001b[38;5;28;01mimport\u001b[39;00m Config, ConfigParameter, ServerConfig, Stylekit, _Config\n\u001b[1;32m---> 46\u001b[0m \u001b[38;5;28;01mfrom\u001b[39;00m \u001b[38;5;21;01m.\u001b[39;00m\u001b[38;5;21;01mdata\u001b[39;00m\u001b[38;5;21;01m.\u001b[39;00m\u001b[38;5;21;01mcontent_accessor\u001b[39;00m \u001b[38;5;28;01mimport\u001b[39;00m _ContentAccessor\n\u001b[0;32m     47\u001b[0m \u001b[38;5;28;01mfrom\u001b[39;00m \u001b[38;5;21;01m.\u001b[39;00m\u001b[38;5;21;01mdata\u001b[39;00m\u001b[38;5;21;01m.\u001b[39;00m\u001b[38;5;21;01mdata_accessor\u001b[39;00m \u001b[38;5;28;01mimport\u001b[39;00m _DataAccessor, _DataAccessors\n\u001b[0;32m     48\u001b[0m \u001b[38;5;28;01mfrom\u001b[39;00m \u001b[38;5;21;01m.\u001b[39;00m\u001b[38;5;21;01mdata\u001b[39;00m\u001b[38;5;21;01m.\u001b[39;00m\u001b[38;5;21;01mdata_format\u001b[39;00m \u001b[38;5;28;01mimport\u001b[39;00m _DataFormat\n",
      "File \u001b[1;32m~\\Documents\\Test\\Projects\\Python\\DB\\dbrock\\Lib\\site-packages\\taipy\\gui\\data\\content_accessor.py:26\u001b[0m\n\u001b[0;32m     23\u001b[0m _has_magic_module \u001b[38;5;241m=\u001b[39m \u001b[38;5;28;01mFalse\u001b[39;00m\n\u001b[0;32m     25\u001b[0m \u001b[38;5;28;01mif\u001b[39;00m util\u001b[38;5;241m.\u001b[39mfind_spec(\u001b[38;5;124m\"\u001b[39m\u001b[38;5;124mmagic\u001b[39m\u001b[38;5;124m\"\u001b[39m):\n\u001b[1;32m---> 26\u001b[0m     \u001b[38;5;28;01mimport\u001b[39;00m \u001b[38;5;21;01mmagic\u001b[39;00m\n\u001b[0;32m     28\u001b[0m     _has_magic_module \u001b[38;5;241m=\u001b[39m \u001b[38;5;28;01mTrue\u001b[39;00m\n\u001b[0;32m     31\u001b[0m \u001b[38;5;28;01mclass\u001b[39;00m \u001b[38;5;21;01m_ContentAccessor\u001b[39;00m:\n",
      "File \u001b[1;32m~\\Documents\\Test\\Projects\\Python\\DB\\dbrock\\Lib\\site-packages\\magic\\__init__.py:209\u001b[0m\n\u001b[0;32m    206\u001b[0m     \u001b[38;5;28;01mreturn\u001b[39;00m m\u001b[38;5;241m.\u001b[39mfrom_descriptor(fd)\n\u001b[0;32m    208\u001b[0m \u001b[38;5;28;01mfrom\u001b[39;00m \u001b[38;5;21;01m.\u001b[39;00m \u001b[38;5;28;01mimport\u001b[39;00m loader\n\u001b[1;32m--> 209\u001b[0m libmagic \u001b[38;5;241m=\u001b[39m loader\u001b[38;5;241m.\u001b[39mload_lib()\n\u001b[0;32m    211\u001b[0m magic_t \u001b[38;5;241m=\u001b[39m ctypes\u001b[38;5;241m.\u001b[39mc_void_p\n\u001b[0;32m    214\u001b[0m \u001b[38;5;28;01mdef\u001b[39;00m \u001b[38;5;21merrorcheck_null\u001b[39m(result, func, args):\n",
      "File \u001b[1;32m~\\Documents\\Test\\Projects\\Python\\DB\\dbrock\\Lib\\site-packages\\magic\\loader.py:49\u001b[0m, in \u001b[0;36mload_lib\u001b[1;34m()\u001b[0m\n\u001b[0;32m     46\u001b[0m     \u001b[38;5;28;01mpass\u001b[39;00m\n\u001b[0;32m     47\u001b[0m \u001b[38;5;28;01melse\u001b[39;00m:\n\u001b[0;32m     48\u001b[0m   \u001b[38;5;66;03m# It is better to raise an ImportError since we are importing magic module\u001b[39;00m\n\u001b[1;32m---> 49\u001b[0m   \u001b[38;5;28;01mraise\u001b[39;00m \u001b[38;5;167;01mImportError\u001b[39;00m(\u001b[38;5;124m'\u001b[39m\u001b[38;5;124mfailed to find libmagic.  Check your installation\u001b[39m\u001b[38;5;124m'\u001b[39m)\n",
      "\u001b[1;31mImportError\u001b[0m: failed to find libmagic.  Check your installation"
     ]
    }
   ],
   "source": [
    "from taipy import Gui\n",
    "import requests\n",
    "import pandas as pd\n",
    "import datetime\n",
    "import numpy as np\n",
    "import random\n",
    "from datetime import datetime\n",
    "from datetime import timedelta\n",
    "import matplotlib.pyplot as plt\n",
    "%matplotlib inline\n",
    "import seaborn as sns\n",
    "import squarify\n",
    "import plotly.express as px\n",
    "import plotly.graph_objects as go\n",
    "import matplotlib.pyplot as plt\n",
    "import seaborn as sns"
   ]
  },
  {
   "cell_type": "markdown",
   "id": "e88e5655-9a5c-41a0-b1b8-85e9a64b8fcf",
   "metadata": {},
   "source": [
    "#### Airtable - fetch data"
   ]
  },
  {
   "cell_type": "code",
   "execution_count": 7,
   "id": "0438bdfa-5943-43e3-a816-61a552249f05",
   "metadata": {},
   "outputs": [],
   "source": [
    "def connect_airtable():\n",
    "    api_key = 'patngX23FWWWnl2iH.e5c8bc51522c7d6db26f4668e80775aa7f344107ec6a1204a5b388427a6e1da7'\n",
    "\n",
    "    url = 'https://api.airtable.com/v0/appfjmrH6l5m4Z82K/tbly4c5vUFLAP91ga'\n",
    "\n",
    "    headers = {'Authorization': f'Bearer {api_key}'}\n",
    "\n",
    "    #request to airtable\n",
    "    response = requests.get(url, headers=headers)\n",
    "    data = response.json()\n",
    "    records = []\n",
    "    \n",
    "    for record in data['records']:\n",
    "        fields = record['fields']\n",
    "        records.append(fields)\n",
    "    pd.set_option('display.max_rows', None)\n",
    "    pd.set_option('display.max_columns', None)\n",
    "    pd.set_option('display.width', 9999)\n",
    "    df = pd.DataFrame(records)\n",
    "    return df\n"
   ]
  },
  {
   "cell_type": "code",
   "execution_count": 8,
   "id": "55f78598-83e8-487f-be2e-e186792da33c",
   "metadata": {},
   "outputs": [],
   "source": [
    "# Parameters for retrieving the airtable data\n",
    "def get_data():\n",
    "    #df = pd.read_csv('orders.csv')\n",
    "    df = connect_airtable()\n",
    "    pd.set_option('display.max_rows', None)\n",
    "    pd.set_option('display.max_columns', None)\n",
    "    #data preproc\n",
    "    #df['Project name (from Orders)'].fillna(df['Project name'], inplace=True)\n",
    "    df['Project name (from Orders)'] = df['Project name']\n",
    "    df['Name (from Customer)'] = df['Name (from Customer)'].astype(str).str.replace('[^a-zA-Z0-9]', ' ', regex=True).str.strip()\n",
    "    df['Num (from Customer)'] = df['Num (from Customer)'].apply(lambda x: int(''.join(filter(str.isdigit, str(x).replace('[', '').replace(']', '')))) if pd.notna(x) else np.nan)\n",
    "    # df.dropna(subset=['Num (from Customer)'], inplace=True)\n",
    "    df['Bottle Type'] = df['Item description (from Order items)'].apply(lambda x: re.findall(r'[a-zA-Z]+', x.split('-')[0])[0] if isinstance(x, str) and '-' in x else None)\n",
    "    df['Bottle Type'].fillna('N/A', inplace=True)\n",
    "    df['Amount Unpaid'] = df['Total paid'] - df['Order total']\n",
    "    # #df['Balance due quartile desc'] = pd.qcut(df['Balance due'], q=4, labels=['3', '2', '1'], duplicates='drop')\n",
    "    # #df['Balance due quartile desc'] = pd.qcut(df['Balance due'], q=4, labels=['4', '3', '2', '1'])\n",
    "    df['Number of Purchases'] = df.groupby('Num (from Customer)')['Num (from Customer)'].transform('count')\n",
    "    df['Client Type'] = np.where(df['Number of Purchases'] == 1, 'New', 'Returning')\n",
    "    df['Average Purchase Amount'] = df.groupby('Num (from Customer)')['Order total'].transform('mean')\n",
    "    df['Created: project name'] = df['Created: project name'].astype(str)\n",
    "    df['Clean Date'] = df['Created: project name'].apply(lambda x: datetime.strptime(x, '%Y-%m-%dT%H:%M:%S.%fZ') if x != 'nan' else np.nan)\n",
    "    # df = df.drop_duplicates(subset=['Num (from Customer)', 'Order num','Project name (from Orders)'], keep='last', inplace=True)\n",
    "    # df = df.drop_duplicates(subset=['Num (from Customer)','Email (from Manager)','Order total','Created: project name','Date quote sent'], keep='last', inplace=True)\n",
    "    df = df.replace(\" \", np.NaN)\n",
    "    # numeric_cols = df.select_dtypes(include=[np.number]).columns\n",
    "    # df[numeric_cols] = df[numeric_cols].apply(pd.to_numeric, errors='coerce')\n",
    "    # #df = df.sort_values(by=['Num (from Customer)','Order num', 'Project name', 'Project name (from Orders)','Created: project name'], ascending=[True,True, True,True, True])\n",
    "    df = df.sort_values(by=['Num (from Customer)','Order num', 'Project name','Clean Date'], ascending=[True,True, True, True])\n",
    "    return df\n",
    "\n"
   ]
  },
  {
   "cell_type": "code",
   "execution_count": 9,
   "id": "53af8126-c0c6-476b-949e-eef9db4f1d14",
   "metadata": {},
   "outputs": [],
   "source": [
    "fetch_airtable = get_data()"
   ]
  },
  {
   "cell_type": "code",
   "execution_count": 10,
   "id": "7dc0fbdf-3619-40e4-a087-b96358f0282d",
   "metadata": {},
   "outputs": [],
   "source": [
    "# def on_button_airtable(state):\n",
    "#     notify(state, 'info', f'The text is: {state.text}')\n",
    "#     state.text = \"Button Pressed\"\n",
    "\n",
    "# def on_change(state, var_name, var_value):\n",
    "#     if var_name == \"text\" and var_value == \"Reset\":\n",
    "#         state.text = \"\"\n",
    "#         return\n"
   ]
  },
  {
   "cell_type": "markdown",
   "id": "825bc33e-8d59-4d05-a0fc-0fc8da32888c",
   "metadata": {},
   "source": [
    "#### Aggs view - 1st layout"
   ]
  },
  {
   "cell_type": "code",
   "execution_count": 11,
   "id": "c52c373f-ec4e-477b-bdce-53d496163c03",
   "metadata": {},
   "outputs": [],
   "source": [
    "#sales per month, per client and per project (total/balance due)\n",
    "def sales_per_month():\n",
    "    df = get_data()\n",
    "    df['Clean Date'] = pd.to_datetime(df['Clean Date'])\n",
    "    df['Month'] = df['Clean Date'].dt.strftime('%Y-%m')\n",
    "\n",
    "    sales_by_month = df.groupby(['Month', 'Name (from Customer)', 'Num (from Customer)', 'Project name']).agg(\n",
    "        Total_Sales=('Order total', 'sum'),\n",
    "        Balance_Due=('Balance due', 'sum')\n",
    "    ).reset_index()   \n",
    "    return sales_by_month\n"
   ]
  },
  {
   "cell_type": "code",
   "execution_count": 12,
   "id": "078b36b3-684c-4cf2-8492-fdd8ee74ccdf",
   "metadata": {},
   "outputs": [],
   "source": [
    "sales_df = sales_per_month()"
   ]
  },
  {
   "cell_type": "code",
   "execution_count": null,
   "id": "e9bd4b3c-15f9-4a1d-9ed8-29ef2be70402",
   "metadata": {},
   "outputs": [],
   "source": []
  },
  {
   "cell_type": "code",
   "execution_count": 13,
   "id": "02a20c78-daab-45e8-a7d3-4ec286389e48",
   "metadata": {},
   "outputs": [],
   "source": [
    "#aggregated view per month\n",
    "def sales_sum_per_month():\n",
    "    df = sales_per_month()\n",
    "    sales_sum = df.groupby(['Month'])[['Total_Sales', 'Balance_Due']].sum().reset_index()\n",
    "    return sales_sum"
   ]
  },
  {
   "cell_type": "code",
   "execution_count": 14,
   "id": "a6abc824-1aa0-42ca-b8a4-d45ca79f1937",
   "metadata": {},
   "outputs": [],
   "source": [
    "sales_sum = sales_sum_per_month()"
   ]
  },
  {
   "cell_type": "code",
   "execution_count": 15,
   "id": "fdd21429-3a2d-4af9-9f45-bb0ab6ff92ae",
   "metadata": {},
   "outputs": [],
   "source": [
    "def project_summary():\n",
    "    df = get_data()\n",
    "    project_summary = df.groupby(['Name (from Customer)', 'Num (from Customer)']).agg(\n",
    "        Project_Count=('Project name', 'nunique'),\n",
    "        Total_Quantity=('Quantity (from Order items)', 'sum'),\n",
    "        Total_Order=('Order total', 'sum'),\n",
    "        Total_Cost=('Balance due to suppliers', 'sum')\n",
    "    ).reset_index()\n",
    "    project_summary = project_summary.sort_values(\n",
    "        by=['Project_Count', 'Total_Order', 'Total_Cost', 'Total_Quantity'],\n",
    "        ascending=[False, False, False, False]\n",
    "    )\n",
    "    \n",
    "    return project_summary"
   ]
  },
  {
   "cell_type": "code",
   "execution_count": 16,
   "id": "f7900db0-78a2-4c40-8fbb-d100b08b3750",
   "metadata": {},
   "outputs": [],
   "source": [
    "contributors = project_summary()"
   ]
  },
  {
   "cell_type": "code",
   "execution_count": 17,
   "id": "12d7f6d2-1b36-4d84-9bd0-3d36c3e8dd07",
   "metadata": {},
   "outputs": [],
   "source": [
    "layout={ \"barmode\": \"stack\" }"
   ]
  },
  {
   "cell_type": "code",
   "execution_count": null,
   "id": "0361c356-36a8-46b3-bf39-3ccb94d4286c",
   "metadata": {},
   "outputs": [],
   "source": []
  },
  {
   "cell_type": "markdown",
   "id": "175e2703-f788-467e-91d9-be3dfc68709f",
   "metadata": {},
   "source": [
    "#### Refine selection - 2nd layout"
   ]
  },
  {
   "cell_type": "code",
   "execution_count": 18,
   "id": "086b0a6c-449d-4962-9e5b-c11026fa1969",
   "metadata": {},
   "outputs": [],
   "source": [
    "def month_df():\n",
    "    df = get_data()\n",
    "    df['Month'] = df['Clean Date'].dt.strftime('%m-%Y')\n",
    "    unique_months = df['Month'].unique()  # Get unique month-year combinations\n",
    "    return unique_months"
   ]
  },
  {
   "cell_type": "code",
   "execution_count": 19,
   "id": "f29ad0a5-74fe-452b-994c-e2d599f42476",
   "metadata": {},
   "outputs": [],
   "source": [
    "def customer_df():\n",
    "    df = get_data()\n",
    "    cust = sorted(df['Name (from Customer)'].unique())\n",
    "    return cust"
   ]
  },
  {
   "cell_type": "code",
   "execution_count": 20,
   "id": "2b84c93b-5ec2-4246-924e-f26dfbaf6328",
   "metadata": {},
   "outputs": [],
   "source": [
    "month = month_df()\n",
    "cust = customer_df() "
   ]
  },
  {
   "cell_type": "code",
   "execution_count": 21,
   "id": "79d53769-130e-4a8a-9180-729a74ee00de",
   "metadata": {},
   "outputs": [],
   "source": [
    "def fetch_project_details(month, cust):\n",
    "    df = get_data()\n",
    "    df = df[df['Name (from Customer)'] == cust]\n",
    "    df['Month'] = df['Clean Date'].dt.strftime('%m-%Y')\n",
    "    #filter for month\n",
    "    if isinstance(month, str):\n",
    "        month = [month]\n",
    "    if month:\n",
    "        df = df[df['Month'].isin(month)]\n",
    "\n",
    "    project_details = df.groupby(['Project name']).agg(\n",
    "        Total_Sales=('Order total', 'sum'),\n",
    "        Balance_Due=('Balance due', 'sum')\n",
    "    ).reset_index()\n",
    "    \n",
    "    return project_details\n"
   ]
  },
  {
   "cell_type": "code",
   "execution_count": null,
   "id": "ef9cbc46-99a5-4643-a766-e911d074b57a",
   "metadata": {},
   "outputs": [],
   "source": []
  },
  {
   "cell_type": "code",
   "execution_count": 22,
   "id": "f439dc9e-709a-456a-a5e6-6b1e6b132bb1",
   "metadata": {},
   "outputs": [],
   "source": [
    "month_lov = month_df()\n",
    "cust_lov = customer_df() \n",
    "selected_month = month_lov[0]\n",
    "selected_cust = cust_lov[0] \n",
    "table = fetch_project_details(selected_month, selected_cust)"
   ]
  },
  {
   "cell_type": "markdown",
   "id": "c2c4145d-73d0-478e-90ed-7ce72c9d1d49",
   "metadata": {},
   "source": [
    "#### Page - markdown"
   ]
  },
  {
   "cell_type": "code",
   "execution_count": 23,
   "id": "18100bfd-23e4-4d91-a641-0549165da872",
   "metadata": {},
   "outputs": [],
   "source": [
    "dv_graph_selector = ['Sales Dashboard','Client Segmentation','Cohort Analysis']\n",
    "dv_graph_selected = dv_graph_selector[0]"
   ]
  },
  {
   "cell_type": "code",
   "execution_count": 24,
   "id": "47b67f8c-a750-45f9-a5d9-e89b9abe4680",
   "metadata": {},
   "outputs": [],
   "source": [
    "root_md = \"\"\"\n",
    "<center><h2> Rock **KYC** </h2></center>\n",
    "\n",
    "--------------------------------------------------------------------\n",
    "<center><|navbar|></center>\n",
    "\"\"\"\n",
    "\n",
    "# Sales dashboard page\n",
    "sales_dashboard_md = \"\"\"\n",
    "<h4> Sales Dashboard (CNY) </h4>\n",
    "\n",
    "<|Refresh w Airtable|button|on_action=refresh_table|>\n",
    "\n",
    "<|layout|columns=1 1 1|\n",
    "<|{sales_sum}|chart|mode=lines|x=Month|y[1]=Total_Sales|y[2]=Balance_Due|line[2]=dash|color[1]=blue|>\n",
    "\n",
    "<|Contributors|expandable|\n",
    "    ...\n",
    "<|{contributors}|table|>\n",
    "    ...\n",
    "|>\n",
    "\n",
    "<|{contributors}|chart|type=bar|x=Name (from Customer)|y[1]=Total_Order|y[2]=Total_Cost|layout={layout}|>\n",
    "|>\n",
    "\n",
    "<|layout|columns=1 1|\n",
    "Test select month and name\n",
    "<|{selected_cust}|selector|lov={cust_lov}|dropdown|on_change=update_table|>\n",
    "<|{selected_month}|selector|lov={month_lov}|dropdown|on_change=update_table|>\n",
    "\n",
    "Render projects for <|{selected_cust}|> on <|{selected_month}|>   \n",
    "<|{table}|table|show_all|>\n",
    "\n",
    "<|{table}|chart|>\n",
    "|>\n",
    "\"\"\"\n",
    "\n",
    "# Client segmentation page\n",
    "client_segmentation_md = \"\"\"\n",
    "<h4> Client segmentation by behaviour & transaction </h4>\n",
    "\n",
    "<|layout|columns = 1 5|\n",
    "<h6>Search for a client (enter name):  </h6>\n",
    "<|{selected_cust}|input|> \n",
    "\n",
    "|>\n",
    "\"\"\""
   ]
  },
  {
   "cell_type": "code",
   "execution_count": 25,
   "id": "6c69098f-473b-48b3-9e23-019e63293743",
   "metadata": {},
   "outputs": [],
   "source": [
    "# Cohort analysis page\n",
    "cohort_analysis_md = \"\"\"\n",
    "<h4> Client cohort (behaviour evolution) analysis  </h4>\n",
    "\"\"\"\n",
    "\n"
   ]
  },
  {
   "cell_type": "code",
   "execution_count": 26,
   "id": "967fe603-2513-402d-bb52-57009a2292b8",
   "metadata": {},
   "outputs": [],
   "source": [
    "# Callbacks\n",
    "def refresh_table(state):\n",
    "    state.fetch_airtable = get_data()\n",
    "    state.sales_df = sales_per_month()\n",
    "    state.contributors = project_summary()\n",
    "    state.month_lov = month_df()\n",
    "    state.cust_lov = customer_df()\n",
    "    state.selected_month = state.month_lov[0]\n",
    "    state.selected_cust = state.cust_lov[0]\n",
    "    state.table = fetch_project_details(state.selected_month, state.selected_cust)\n"
   ]
  },
  {
   "cell_type": "code",
   "execution_count": 27,
   "id": "a8a4675e-69e1-40e5-9ac3-1d9b83128e1f",
   "metadata": {},
   "outputs": [],
   "source": [
    "def update_table(state):\n",
    "    state.table = fetch_project_details(state.selected_month, state.selected_cust)\n"
   ]
  },
  {
   "cell_type": "code",
   "execution_count": 28,
   "id": "4d4902cf-5e4f-443c-84bb-8d2c1f5cc664",
   "metadata": {},
   "outputs": [],
   "source": [
    "# Putting pages in a dict\n",
    "pages = {\n",
    "    '/': root_md,\n",
    "    'Sales-Dashboard': sales_dashboard_md,\n",
    "    'Client-Segmentation': client_segmentation_md,\n",
    "    'Cohort-Analysis': cohort_analysis_md\n",
    "}"
   ]
  },
  {
   "cell_type": "code",
   "execution_count": null,
   "id": "0fda541b-5897-4652-8a89-59e92e802afd",
   "metadata": {},
   "outputs": [],
   "source": [
    "# Run Taipy GUI\n",
    "gui = Gui(pages=pages)\n",
    "gui.run(dark_mode=False)\n",
    "     "
   ]
  },
  {
   "cell_type": "code",
   "execution_count": null,
   "id": "9497b0c6-3540-470d-b6a8-87460ece8893",
   "metadata": {},
   "outputs": [],
   "source": []
  },
  {
   "cell_type": "code",
   "execution_count": null,
   "id": "d5b3f2a3-b59c-425f-8359-857e053b1515",
   "metadata": {},
   "outputs": [],
   "source": []
  },
  {
   "cell_type": "code",
   "execution_count": null,
   "id": "abeceff4-cc22-4360-8fb7-418898a427c5",
   "metadata": {},
   "outputs": [],
   "source": []
  },
  {
   "cell_type": "markdown",
   "id": "a85bb128-9d93-4954-bdfe-048be7ff1899",
   "metadata": {},
   "source": [
    "# STOP"
   ]
  },
  {
   "cell_type": "markdown",
   "id": "3afcbb93-c8dd-44db-b837-be437c603af4",
   "metadata": {},
   "source": [
    "#### Next page on client segmentation"
   ]
  },
  {
   "cell_type": "code",
   "execution_count": null,
   "id": "98c77244-8d9a-468a-a186-606987e2746a",
   "metadata": {},
   "outputs": [],
   "source": [
    "get_data().head(2)"
   ]
  },
  {
   "cell_type": "code",
   "execution_count": null,
   "id": "7a8f2f34-49cc-4691-83d6-07b89ede172c",
   "metadata": {},
   "outputs": [],
   "source": [
    "def create_rfm_table():\n",
    "    df = get_data()\n",
    "    NOW = df['Clean Date'].max() + timedelta(days=1)\n",
    "    period = 365\n",
    "    df['Days since last order'] = df['Clean Date'].apply(lambda x: (NOW - x).days)\n",
    "    aggr = {\n",
    "        'Days since last order': lambda x: x.min(),  # the number of days since last order (Recency)\n",
    "        'Clean Date': lambda x: len([d for d in x if d >= NOW - timedelta(days=period)]), # the total number of orders in the last period (Frequency)\n",
    "    }\n",
    "    rfm = df.groupby('Num (from Customer)').agg(aggr).reset_index()\n",
    "    rfm.rename(columns={'Days since last order': 'Recency', 'Clean Date': 'Frequency'}, inplace=True)\n",
    "    rfm['Monetary'] = rfm['Num (from Customer)'].apply(lambda x: df[(df['Num (from Customer)'] == x) & \\\n",
    "                                                               (df['Clean Date'] >= NOW - timedelta(days=period))]\\\n",
    "                                                               ['Order total'].sum())\n",
    "    quintiles = rfm[['Recency', 'Frequency', 'Monetary']].quantile([.2, .4, .6, .8]).to_dict()\n",
    "    #assign ranks whereby higher monet and higher freq are better but recency smaller better\n",
    "    def r_score(x):\n",
    "        if x <= quintiles['Recency'][.2]:\n",
    "            return 5\n",
    "        elif x <= quintiles['Recency'][.4]:\n",
    "            return 4\n",
    "        elif x <= quintiles['Recency'][.6]:\n",
    "            return 3\n",
    "        elif x <= quintiles['Recency'][.8]:\n",
    "            return 2\n",
    "        else:\n",
    "            return 1\n",
    "    \n",
    "    def fm_score(x, c):\n",
    "        if x <= quintiles[c][.2]:\n",
    "            return 1\n",
    "        elif x <= quintiles[c][.4]:\n",
    "            return 2\n",
    "        elif x <= quintiles[c][.6]:\n",
    "            return 3\n",
    "        elif x <= quintiles[c][.8]:\n",
    "            return 4\n",
    "        else:\n",
    "            return 5    \n",
    "    #apply for each cust\n",
    "    rfm['R'] = rfm['Recency'].apply(lambda x: r_score(x))\n",
    "    rfm['F'] = rfm['Frequency'].apply(lambda x: fm_score(x, 'Frequency'))\n",
    "    rfm['M'] = rfm['Monetary'].apply(lambda x: fm_score(x, 'Monetary'))\n",
    "    rfm['RFM Score'] = rfm['R'].map(str) + rfm['F'].map(str) + rfm['M'].map(str)\n",
    "    # Function to map RFM scores to segments\n",
    "    rfm['RFM Score'] = rfm['RFM Score'].astype(str).astype(int)\n",
    "    def map_segment(rfm_score):\n",
    "        if rfm_score in [111, 112, 121, 131, 141, 151]:\n",
    "            return 'Lost'\n",
    "        elif rfm_score in [332, 322, 231, 241, 251, 233, 232, 223, 222, 132, 123, 122, 212, 211]:\n",
    "            return 'Hibernating'\n",
    "        elif rfm_score in [255, 254, 245, 244, 253, 252, 243, 242, 235, 234, 225, 224, 153, 152, 145, 143, 142, 135, 134, 133, 125, 124]:\n",
    "            return 'At Risk'\n",
    "        elif rfm_score in [331, 321, 312, 221, 213]:\n",
    "            return 'About To Sleep'\n",
    "        elif rfm_score in [155, 154, 144, 214, 215, 115, 114, 113]:\n",
    "            return 'Cannot Lose Them'\n",
    "        elif rfm_score in [535, 534, 443, 434, 343, 334, 325, 324]:\n",
    "            return 'Need Attention'\n",
    "        elif rfm_score in [525, 524, 523, 522, 521, 515, 514, 513, 425, 424, 413, 414, 415, 315, 314, 313]:\n",
    "            return 'Promising'\n",
    "        elif rfm_score in [512, 511, 422, 421, 412, 411, 311]:\n",
    "            return 'New Customer'\n",
    "        elif rfm_score in [553, 551, 552, 541, 542, 533, 532, 531, 452, 451, 442, 441, 431, 453, 433, 432, 423, 353, 352, 351, 342, 341, 333, 323]:\n",
    "            return 'Potential Loyalist'\n",
    "        elif rfm_score in [543, 444, 435, 355, 354, 345, 344, 335]:\n",
    "            return 'Loyal Customer'\n",
    "        elif rfm_score in [555, 554, 544, 545, 454, 455, 445]:\n",
    "            return 'Champion'\n",
    "        else:\n",
    "            return 'Unknown'\n",
    "    \n",
    "    # Apply the mapping function to create the 'Segment' column\n",
    "    rfm['Segment'] = rfm['RFM Score'].apply(map_segment)\n",
    "    # Dictionary to map segments to behavior and potential strategy\n",
    "    segment_mapping = {\n",
    "        'Champion': {\n",
    "            'Segment Behavior': 'Completed a recent purchase. They buy frequently and spend the most. Reward them. Can be early adopters of new products. They act as brand ambassadors.',\n",
    "            'Segment Potential Strategy': 'Reward them. Can be early adopters of new products. They act as brand ambassadors.'\n",
    "        },\n",
    "        'Loyal Customer': {\n",
    "            'Segment Behavior': 'Buy on a regular basis. Responsive to promotions. Upsell. Offer high-value items to them. Ask them for reviews. Build loyalty.',\n",
    "            'Segment Potential Strategy': 'Upsell. Offer high-value items to them. Ask them for reviews. Build loyalty.'\n",
    "        },\n",
    "        'Potential Loyalist': {\n",
    "            'Segment Behavior': 'They recently spent a fair amount of money on the site more than once. Invite them to join a loyalty program or to get a membership. Recommend other products to them.',\n",
    "            'Segment Potential Strategy': 'Invite them to join a loyalty program or to get a membership. Recommend other products to them.'\n",
    "        },\n",
    "        'Promising': {\n",
    "            'Segment Behavior': 'Bought most recently, but not often enough for us to understand their behavior. Support them on their onboarding process. Get their satisfaction. Start to build loyalty.',\n",
    "            'Segment Potential Strategy': 'Support them on their onboarding process. Get their satisfaction. Start to build loyalty.'\n",
    "        },\n",
    "        'New Customer': {\n",
    "            'Segment Behavior': 'Completed a recent purchase, but didn’t spend a lot. Create brand awareness. Offer discounts, gifts, and free trials.',\n",
    "            'Segment Potential Strategy': 'Create brand awareness. Offer discounts, gifts, and free trials.'\n",
    "        },\n",
    "        'Need Attention': {\n",
    "            'Segment Behavior': 'Above average in recency, frequency, and monetary value, but no recent purchases. Launch limited-time offers and recommendations based on previous orders. Reactivate.',\n",
    "            'Segment Potential Strategy': 'Launch limited-time offers and recommendations based on previous orders. Reactivate.'\n",
    "        },\n",
    "        'Cannot Lose Them': {\n",
    "            'Segment Behavior': 'Completed huge, frequent purchases long ago but haven’t come back since then. Get them back with new product launches. Don’t let competitors take them. Talk to them.',\n",
    "            'Segment Potential Strategy': 'Get them back with new product launches. Don’t let competitors take them. Talk to them.'\n",
    "        },\n",
    "        'About To Sleep': {\n",
    "            'Segment Behavior': 'Below average in recency, frequency, and monetary value. At risk of losing them if you don’t reactivate. Share useful information. Recommend popular products to them. Offer new discounts. Reconnect.',\n",
    "            'Segment Potential Strategy': 'Share useful information. Recommend popular products to them. Offer new discounts. Reconnect.'\n",
    "        },\n",
    "        'At Risk': {\n",
    "            'Segment Behavior': 'Purchased often but a long time ago. Need to bring them back! Send personalized emails to reconnect with special offers. Share useful resources with them.',\n",
    "            'Segment Potential Strategy': 'Send personalized emails to reconnect with special offers. Share useful resources with them.'\n",
    "        },\n",
    "        'Hibernating': {\n",
    "            'Segment Behavior': 'Their last purchase was long ago. The number of orders was small and the amounts spent low. Offer relevant products and special discounts. Create brand value again.',\n",
    "            'Segment Potential Strategy': 'Offer relevant products and special discounts. Create brand value again.'\n",
    "        },\n",
    "        'Lost': {\n",
    "            'Segment Behavior': 'Lowest scores in recency, frequency, and monetary value. Try to reactivate them with personalized campaigns. If it doesn’t work, ignore them.',\n",
    "            'Segment Potential Strategy': 'Try to reactivate them with personalized campaigns. If it doesn’t work, ignore them.'\n",
    "        }\n",
    "    }\n",
    "    \n",
    "    # Map the segments to behavior and potential strategy\n",
    "    rfm['Segment Behavior'] = rfm['Segment'].map(lambda x: segment_mapping[x]['Segment Behavior'])\n",
    "    rfm['Segment Potential Strategy'] = rfm['Segment'].map(lambda x: segment_mapping[x]['Segment Potential Strategy'])\n",
    "    return rfm"
   ]
  },
  {
   "cell_type": "code",
   "execution_count": null,
   "id": "ba3be049-1c7f-494c-b443-81a9c5433b94",
   "metadata": {},
   "outputs": [],
   "source": [
    "create_rfm_table().head(2)"
   ]
  },
  {
   "cell_type": "code",
   "execution_count": null,
   "id": "d1e95785-a512-4c8b-8003-540d7f45907c",
   "metadata": {},
   "outputs": [],
   "source": [
    "def rfm_heatmap():\n",
    "    rfm = create_rfm_table()\n",
    "    # Calculate average values for each RFM_Level, and return a size of each segment \n",
    "    rfm_avg = rfm.groupby('Segment').agg({\n",
    "        'R': lambda x: x.mode().iloc[0],\n",
    "        'F': lambda x: x.mode().iloc[0],\n",
    "        'M': lambda x: x.mode().iloc[0],\n",
    "        'Num (from Customer)': 'count'\n",
    "    }).round(1)\n",
    "    rfm_avg.rename(columns={'Num (from Customer)': 'Count'}, inplace=True)\n",
    "    # # Create our plot and resize it.\n",
    "    # fig, ax = plt.subplots(figsize=(16, 9))\n",
    "    \n",
    "    # # Use squarify to create the treemap\n",
    "    # sizes = rfm_avg['Count']\n",
    "    # labels = [f'{label} ({count})' for label, count in zip(rfm_avg.index, sizes)]\n",
    "    # #colors = plt.cm.Paired(range(len(sizes)))  \n",
    "    # colors = sns.color_palette(\"coolwarm\", len(sizes))\n",
    "    # #colors = sns.diverging_palette(250, 30, l=65, center=\"silver\",len(sizes))\n",
    "\n",
    "    # squarify.plot(sizes=sizes, label=labels, alpha=0.6, color=colors)\n",
    "    \n",
    "    # # Add title and axis labels\n",
    "    # plt.title(\"RFM Segments\")\n",
    "    \n",
    "    # return plt.show()\n",
    "    return rfm_avg.reset_index()"
   ]
  },
  {
   "cell_type": "code",
   "execution_count": null,
   "id": "ad4d22f3-3601-498f-b40b-223d46eac7fb",
   "metadata": {},
   "outputs": [],
   "source": [
    "rfm_heatmap()"
   ]
  },
  {
   "cell_type": "code",
   "execution_count": null,
   "id": "b0b0b3e9-f05d-47a8-b9f4-77fe7a1acf2c",
   "metadata": {},
   "outputs": [],
   "source": [
    "# def rfm_bars():\n",
    "#     rfm = create_rfm_table()\n",
    "#     # count the number of customers in each segment\n",
    "#     segments_counts = rfm['Segment'].value_counts().sort_values(ascending=True)\n",
    "    \n",
    "#     fig, ax = plt.subplots()\n",
    "    \n",
    "#     bars = ax.barh(range(len(segments_counts)),\n",
    "#                   segments_counts,\n",
    "#                   color='silver')\n",
    "#     ax.set_frame_on(False)\n",
    "#     ax.tick_params(left=False,\n",
    "#                    bottom=False,\n",
    "#                    labelbottom=False)\n",
    "#     ax.set_yticks(range(len(segments_counts)))\n",
    "#     ax.set_yticklabels(segments_counts.index)\n",
    "    \n",
    "#     for i, bar in enumerate(bars):\n",
    "#             value = bar.get_width()\n",
    "#             if segments_counts.index[i] in ['Champion', 'Loyal Customer']:\n",
    "#                 bar.set_color('firebrick')\n",
    "#             ax.text(value,\n",
    "#                     bar.get_y() + bar.get_height()/2,\n",
    "#                     '{:,} ({:}%)'.format(int(value),\n",
    "#                                        int(value*100/segments_counts.sum())),\n",
    "#                     va='center',\n",
    "#                     ha='left'\n",
    "#                    )\n",
    "    \n",
    "#     return plt.show()"
   ]
  },
  {
   "cell_type": "code",
   "execution_count": null,
   "id": "551e3aad-41aa-436a-92a4-dce8dc47cc89",
   "metadata": {},
   "outputs": [],
   "source": [
    "def rfm_bars():\n",
    "    rfm = create_rfm_table()\n",
    "    # count the number of customers in each segment\n",
    "    segments_counts = rfm['Segment'].value_counts().sort_values(ascending=True)\n",
    "    return segments_counts\n",
    "    # fig, ax = plt.subplots()\n",
    "    \n",
    "    # bars = ax.barh(range(len(segments_counts)),\n",
    "    #               segments_counts,\n",
    "    #               color='silver')\n",
    "    # ax.set_frame_on(False)\n",
    "    # ax.tick_params(left=False,\n",
    "    #                bottom=False,\n",
    "    #                labelbottom=False)\n",
    "    # ax.set_yticks(range(len(segments_counts)))\n",
    "    # ax.set_yticklabels(segments_counts.index)\n",
    "    \n",
    "    # for i, bar in enumerate(bars):\n",
    "    #         value = bar.get_width()\n",
    "    #         if segments_counts.index[i] in ['Champion', 'Loyal Customer']:\n",
    "    #             bar.set_color('firebrick')\n",
    "    #         ax.text(value,\n",
    "    #                 bar.get_y() + bar.get_height()/2,\n",
    "    #                 '{:,} ({:}%)'.format(int(value),\n",
    "    #                                    int(value*100/segments_counts.sum())),\n",
    "    #                 va='center',\n",
    "    #                 ha='left'\n",
    "    #                )\n",
    "    \n",
    "    # return plt.show()"
   ]
  },
  {
   "cell_type": "code",
   "execution_count": null,
   "id": "dadd66cc-ad9c-4899-a4a3-83c60f8c9c56",
   "metadata": {},
   "outputs": [],
   "source": [
    "# properties = {\n",
    "#     segments_counts,\n",
    "#     #colors=['silver' if idx not in ['Champion', 'Loyal Customer'] else 'firebrick' for idx in segments_counts.index],\n",
    "#     \"y\":segments_counts.index,\n",
    "#     \"x\":range(len(segments_counts),\n",
    "#     \"orientation\":    \"h\",\n",
    "#     \"layout\": {\n",
    "#         # Set a relevant title for the x axis\n",
    "#         \"xaxis\": { \"title\": \"Counts\" },\n",
    "#         # Hide the legend\n",
    "#         \"showlegend\": True\n",
    "# }"
   ]
  },
  {
   "cell_type": "code",
   "execution_count": null,
   "id": "ef12ddd5-39c3-45d3-b932-6c87e3cb96de",
   "metadata": {},
   "outputs": [],
   "source": [
    "rfm_bars()"
   ]
  },
  {
   "cell_type": "code",
   "execution_count": null,
   "id": "e4fd1c04-45e8-40cc-9d81-0da05bb8ff8e",
   "metadata": {},
   "outputs": [],
   "source": [
    "search_client = 'WILLIBALD'"
   ]
  },
  {
   "cell_type": "code",
   "execution_count": null,
   "id": "5f6f4169-3b94-43fc-bcd4-7640c833b28f",
   "metadata": {},
   "outputs": [],
   "source": [
    "def client_segment_map(search_client):\n",
    "    rfm = create_rfm_table()\n",
    "    df = get_data()\n",
    "    df = df.merge(rfm, on='Num (from Customer)', how='left')\n",
    "    return df[df['Name (from Customer)'].str.contains(search_client)][['Name (from Customer)', 'Segment','Segment Behavior','Segment Potential Strategy']]"
   ]
  },
  {
   "cell_type": "code",
   "execution_count": null,
   "id": "2a8ca4fe-5172-412e-916c-ab696fea3ee1",
   "metadata": {},
   "outputs": [],
   "source": [
    "client_segment_map(search_client)"
   ]
  },
  {
   "cell_type": "code",
   "execution_count": null,
   "id": "6ad0e775-f4de-4b2d-9925-39a410f686db",
   "metadata": {},
   "outputs": [],
   "source": []
  },
  {
   "cell_type": "code",
   "execution_count": null,
   "id": "d16e38a4-e8b9-4bc2-8ae5-00e02ffcdf56",
   "metadata": {},
   "outputs": [],
   "source": [
    "# dv_graph_selector = ['Client Segmentation','Cohort Analysis']\n",
    "# dv_graph_selected = dv_graph_selector[0]"
   ]
  },
  {
   "cell_type": "code",
   "execution_count": null,
   "id": "a8a6a787-d993-499b-8745-c2367d3718bf",
   "metadata": {},
   "outputs": [],
   "source": [
    "page =  \"\"\"\n",
    "<center><h2> Rock **KYC** </h2></center>\n",
    "\n",
    "<|{dv_graph_selected}|toggle|lov={dv_graph_selector}|>\n",
    "\n",
    "--------------------------------------------------------------------\n",
    "<|part|render={dv_graph_selected == 'Client Segmentation'}|\n",
    "<h4> Client segmentation by behaviour & transaction </h4>\n",
    "\n",
    "<|layout|columns = 1 5|\n",
    "<|\n",
    "<h6>Search for a client (enter name):  </h6>\n",
    "<|{search_client}|input|> \n",
    "|>\n",
    "\n",
    "<|\n",
    "<h6><|{search_client}|> summary and action: </h6>\n",
    "<|{client_segment_map(search_client)}|table|width=80%|>\n",
    "|>\n",
    "|>\n",
    "\n",
    "same row 2 columns for rfm_heatmap() rfm_bars()\n",
    "<|layout|columns = 1 1|\n",
    "<|\n",
    "<h6>Our clients overall </h6>\n",
    "<|{client_segment_map(search_client)}|chart|type=heatmap|z=Count|x=R|y=F|layout={layout}|>\n",
    "|>\n",
    "<| \n",
    "<h6>Our clients by size </h6>\n",
    "<|{rfm_bars()}|chart|type=bar|>\n",
    "|>\n",
    "|>\n",
    "\n",
    "|>\n",
    "\n",
    "<|part|render={dv_graph_selected == 'Cohort Analysis'}|\n",
    "<h4> Client cohort (behaviour evolution) analysis  </h4>\n",
    "\n",
    "\n",
    "\n",
    "|>\n",
    "\"\"\""
   ]
  },
  {
   "cell_type": "code",
   "execution_count": null,
   "id": "91eba844-339b-437a-a716-ef45ab9ee0e8",
   "metadata": {},
   "outputs": [],
   "source": [
    "# def on_change():\n",
    "    "
   ]
  },
  {
   "cell_type": "code",
   "execution_count": null,
   "id": "1fd0c7f3-2a6b-45b8-846f-b9a83ecf667a",
   "metadata": {},
   "outputs": [],
   "source": [
    "# # Run Taipy GUI\n",
    "# gui = Gui(page)\n",
    "# gui.run(dark_mode=False)\n",
    "     "
   ]
  },
  {
   "cell_type": "code",
   "execution_count": null,
   "id": "8457de1c-4ede-40c2-83ff-12dafa4aea95",
   "metadata": {},
   "outputs": [],
   "source": []
  }
 ],
 "metadata": {
  "kernelspec": {
   "display_name": "Python 3 (ipykernel)",
   "language": "python",
   "name": "python3"
  },
  "language_info": {
   "codemirror_mode": {
    "name": "ipython",
    "version": 3
   },
   "file_extension": ".py",
   "mimetype": "text/x-python",
   "name": "python",
   "nbconvert_exporter": "python",
   "pygments_lexer": "ipython3",
   "version": "3.11.4"
  }
 },
 "nbformat": 4,
 "nbformat_minor": 5
}
